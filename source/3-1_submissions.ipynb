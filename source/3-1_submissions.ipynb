{
 "cells": [
  {
   "cell_type": "markdown",
   "metadata": {},
   "source": [
    "# Submissions\n",
    "\n",
    "<p style=\"text-align:justify;\">\n",
    "Nineteen participants submitted data that were approved, which included 41 T1 maps of the NIST/system phantom, and 56 brain T1 maps. It should be noted that these numbers include a subset of measurements where both complex and magnitude-only data from the same acquisition were used to fit T1 maps, thus the total number of unique acquisitions is lower than the numbers reported above. The datasets were collected on three MRI manufacturers (Siemens, GE, Philips) and were acquired at 3.0 T, except for one dataset acquired at 350 mT. To showcase the heterogeneity of the independently-implemented submissions, Figure 2 displays six T1 maps of the phantoms submitted to the challenge.\n",
    "</p>\n",
    "\n",
    "<p style=\"text-align:justify;\">\n",
    "Of these datasets, several submissions went beyond the minimum acquisition and acquired additional datasets using the NIST phantom, such as a traveling phantom (7 scanners), scan-rescan , same-day rescans on two MRIs, short TR vs long TR, and 4 point TI vs 14 point TI. For humans, one site acquired 13 subjects on three scanners (two manufacturers), one site acquired 6 subjects , and one site acquired a subject using two different head coils (20 channels vs. 64 channels).\n",
    "</p>\n",
    "\n",
    "<b style=\"text-align:justify;\">\n",
    "Figure 2. Example T1 maps that were submitted. Note the differences in acquisitions (e.g. FOV (top middle), orientation (bottom right, k-space pattern (top left and right) and resulting artifacts in the T1 maps (e.g. ghosting (bottom left), ringing (bottom middle), noise profiles (top left and bottom right), deformation/slice mispositioning (top right)) resulting from the independently-implemented acquisition protocols.\n",
    "</b>"
   ]
  },
  {
   "cell_type": "code",
   "execution_count": null,
   "metadata": {
    "tags": [
     "hide_input",
     "remove_output"
    ]
   },
   "outputs": [],
   "source": [
    "# Imports\n",
    "\n",
    "from pathlib import Path\n",
    "import pandas as pd\n",
    "import json\n",
    "import nibabel as nib\n",
    "import numpy as np\n",
    "import matplotlib.pyplot as plt\n",
    "import matplotlib.animation as animation\n",
    "from IPython.display import Video\n",
    "import glob\n",
    "from analysis.src.plots import *\n",
    "from analysis.make_pooled_datasets import *\n",
    "\n",
    "# Configurations\n",
    "configFile = Path('analysis/configs/3T_NIST_T1maps.json')\n",
    "data_folder_name = 'analysis/3T_NIST_T1maps'\n",
    "output_gif_folder = Path(\"analysis/plots/01-wholedataset_gif_NIST/\")\n",
    "output_gif_name = 'NIST.gif'\n",
    "\n",
    "# Download datasets\n",
    "if not Path(data_folder_name).exists():\n",
    "    make_pooled_dataset(configFile, data_folder_name)\n",
    "\n",
    "# Plot figure\n",
    "fig = plt.figure()\n",
    "\n",
    "#Set background color to white\n",
    "fig.set_facecolor(\"w\")\n",
    "\n",
    "# Set scalebar range\n",
    "vmin = 0\n",
    "vmax = 3000\n",
    "\n",
    "with open(configFile) as json_file:\n",
    "    configJson = json.load(json_file)\n",
    "\n",
    "ims = []\n",
    "\n",
    "for dataset_name in configJson:\n",
    "    for key1 in configJson[dataset_name]:\n",
    "        if key1 == 'datasets':\n",
    "            for key2 in configJson[dataset_name][key1]:         \n",
    "                \n",
    "                # Load T1 image data\n",
    "                t1_file = configJson[dataset_name]['datasets'][key2]['imagePath']\n",
    "                t1 = nib.load(Path(data_folder_name) / t1_file)\n",
    "                t1_volume = t1.get_fdata() \n",
    "\n",
    "                # Handle 2D vs 3D volume case\n",
    "                dims = t1_volume.shape\n",
    "                if (len(dims) == 2) or (np.min(dims) == 1):\n",
    "                    im = plt.imshow(np.rot90(t1_volume), cmap=parula_map, animated=True, vmin = vmin, vmax = vmax)\n",
    "                else:\n",
    "                    index_smallest_dim = np.argmin(dims)\n",
    "                    numberOfSlices = dims[index_smallest_dim]\n",
    "                    midSlice = int(np.round(numberOfSlices/2))\n",
    "\n",
    "                    if index_smallest_dim == 0:\n",
    "                        im = plt.imshow(np.rot90(np.squeeze(t1_volume[midSlice,:,:])), cmap=parula_map, animated=True, vmin = vmin, vmax = vmax)\n",
    "                    elif index_smallest_dim == 1:\n",
    "                        im = plt.imshow(np.rot90(np.squeeze(t1_volume[:,midSlice,:])), cmap=parula_map, animated=True, vmin = vmin, vmax = vmax)\n",
    "                    elif index_smallest_dim == 2:\n",
    "                        im = plt.imshow(np.rot90(np.squeeze(t1_volume[:,:,midSlice])), cmap=parula_map, animated=True, vmin = vmin, vmax = vmax)\n",
    "                \n",
    "                # Add filename text to image\n",
    "                ttl = plt.text(0, 280, Path(t1_file).name, fontsize=6, horizontalalignment='left', verticalalignment='top')\n",
    "                \n",
    "                ims.append([im, ttl])\n",
    "\n",
    "# Save all images to GIF\n",
    "plt.colorbar()\n",
    "plt.clim(vmin,vmax)\n",
    "\n",
    "ani = animation.ArtistAnimation(fig, ims, interval=500, blit=False,repeat_delay=1000)\n",
    "\n",
    "output_gif_folder.mkdir(parents=True, exist_ok=True)\n",
    "ani.save(output_gif_folder / output_gif_name, dpi=100, writer='imagemagick')\n",
    "\n",
    "plt.close()\n"
   ]
  },
  {
   "cell_type": "code",
   "execution_count": null,
   "metadata": {
    "tags": [
     "remove_input",
     "report_output"
    ]
   },
   "outputs": [],
   "source": [
    "show_gif(output_gif_folder / output_gif_name)"
   ]
  }
 ],
 "metadata": {
  "celltoolbar": "Tags",
  "kernelspec": {
   "display_name": "Python 3 (ipykernel)",
   "language": "python",
   "name": "python3"
  },
  "language_info": {
   "codemirror_mode": {
    "name": "ipython",
    "version": 3
   },
   "file_extension": ".py",
   "mimetype": "text/x-python",
   "name": "python",
   "nbconvert_exporter": "python",
   "pygments_lexer": "ipython3",
   "version": "3.8.8"
  }
 },
 "nbformat": 4,
 "nbformat_minor": 2
}
