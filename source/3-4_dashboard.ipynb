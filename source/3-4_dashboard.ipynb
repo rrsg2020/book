{
 "cells": [
  {
   "attachments": {},
   "cell_type": "markdown",
   "metadata": {},
   "source": [
    "# Dashboard\n",
    "\n",
    "<p style=\"text-align:justify;\">\n",
    "To better disseminate the challenge results, a web-based dashboard was developed (Figure 8,  https://rrsg2020.dashboards.neurolibre.org). The landing page (Figure 8a) illustrates the relationship between the phantom and brain datasets submitted at different sites and which scanner vendors were used. Navigating to the phantom section leads you where you can view information about the submitted datasets, such as the mean/std/median/CoV for each sphere, % difference from the reference values, number of scans, and temperature (Figure 8b, left). Other options allow you to limit the results by specific versions of the phantom or the MRI manufacturer. Selecting either “By Sphere” (Figure 8b, right) or “By Site” tabs will display whisker plots for the selected options, enabling further exploration of the datasets.\n",
    "</p>\n",
    "\n",
    "<p style=\"text-align:justify;\">\n",
    "Returning to the home page and selecting the brain section allows exploration of information on the brain datasets (Figure 8c, left), such as mean T1 and STD for different ROI regions, as well as selection of specific MRI manufacturers. Choosing the “By Regions” tab provides whisker plots of the datasets for the selected ROI (Figure 8c, right), similar to the plots for the phantom.\n",
    "</p>"
   ]
  },
  {
   "attachments": {},
   "cell_type": "markdown",
   "metadata": {},
   "source": [
    "<p style=\"text-align:justify;\">\n",
    "<b>\n",
    "Figure 8. Dashboard. a) welcome page listing all the sites, the types of subject, and scanner, and the relationship between the three. b) dashboard tabs.\n",
    "</b>\n",
    "</p>"
   ]
  },
  {
   "attachments": {},
   "cell_type": "markdown",
   "metadata": {},
   "source": [
    "<iframe src=\"https://rrsg2020.dashboards.neurolibre.org\" width=\"100%\" height=\"1100px\" style=\"border:none;\"></iframe>"
   ]
  }
 ],
 "metadata": {
  "language_info": {
   "name": "python"
  },
  "orig_nbformat": 4
 },
 "nbformat": 4,
 "nbformat_minor": 2
}
